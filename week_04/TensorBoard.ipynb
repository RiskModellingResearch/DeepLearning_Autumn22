{
  "cells": [
    {
      "cell_type": "markdown",
      "metadata": {
        "id": "AYdG8pg8Z9dz"
      },
      "source": [
        "https://pytorch.org/tutorials/intermediate/tensorboard_tutorial.html"
      ]
    },
    {
      "cell_type": "code",
      "execution_count": null,
      "metadata": {
        "collapsed": true,
        "id": "GVeL3NqIZ9d1"
      },
      "outputs": [],
      "source": [
        "#!pip install tensorboard --quiet"
      ]
    },
    {
      "cell_type": "code",
      "source": [
        "!git clone https://github.com/RiskModellingResearch/DeepLearning_Autumn22"
      ],
      "metadata": {
        "id": "QKuiW9A8DztF"
      },
      "execution_count": null,
      "outputs": []
    },
    {
      "cell_type": "code",
      "source": [
        "%load_ext tensorboard"
      ],
      "metadata": {
        "id": "ZQF8SOGUaCPP"
      },
      "execution_count": null,
      "outputs": []
    },
    {
      "cell_type": "code",
      "execution_count": null,
      "metadata": {
        "collapsed": true,
        "id": "n0xyll_DZ9d3"
      },
      "outputs": [],
      "source": [
        "# import tensorflow as tf\n",
        "from torch.utils.tensorboard import SummaryWriter"
      ]
    },
    {
      "cell_type": "markdown",
      "metadata": {
        "id": "ezX2_oMNZ9d3"
      },
      "source": [
        "Необходимо создать объект __SummaryWriter__, с помощью которого будет осуществлятьс логирование. "
      ]
    },
    {
      "cell_type": "code",
      "execution_count": null,
      "metadata": {
        "collapsed": true,
        "id": "UBFjrPPnZ9d4"
      },
      "outputs": [],
      "source": [
        "train_writer = SummaryWriter('./logs/train')"
      ]
    },
    {
      "cell_type": "code",
      "execution_count": null,
      "metadata": {
        "collapsed": true,
        "id": "0gBU-6-QZ9d5"
      },
      "outputs": [],
      "source": [
        "valid_writer = SummaryWriter('./logs/valid')"
      ]
    },
    {
      "cell_type": "code",
      "execution_count": null,
      "metadata": {
        "collapsed": true,
        "id": "l-i9ykG_Z9d5"
      },
      "outputs": [],
      "source": [
        "tensorboard --logdir=путь_до_папки_с_логами <- запускать в консоли"
      ]
    },
    {
      "cell_type": "markdown",
      "metadata": {
        "id": "2lO56DU_Z9d6"
      },
      "source": [
        "1. Добавление __скаляров__, например точности, значение целевой функции"
      ]
    },
    {
      "cell_type": "code",
      "execution_count": null,
      "metadata": {
        "collapsed": true,
        "id": "LkoxUEf_Z9d7"
      },
      "outputs": [],
      "source": [
        "for step in range(500):\n",
        "    output = model(x)\n",
        "\n",
        "    loss = loss_fn(output, label)\n",
        "    acc = accuracy(output, label)\n",
        "    \n",
        "    train_writer.add_scalar('CrossEntropyLoss', loss, step)\n",
        "    train_writer.add_scalar('Accuracy', acc, step)"
      ]
    },
    {
      "cell_type": "markdown",
      "metadata": {
        "id": "ALqA4ALAZ9d7"
      },
      "source": [
        "2. Добавление несколько скаляров"
      ]
    },
    {
      "cell_type": "code",
      "execution_count": null,
      "metadata": {
        "collapsed": true,
        "id": "-q-NoEzXZ9d8"
      },
      "outputs": [],
      "source": [
        "train_writer.add_scalars('run_14h', {'xsinx':i*np.sin(i/r),\n",
        "                               'xcosx':i*np.cos(i/r),\n",
        "                               'tanx': np.tan(i/r)}, i)"
      ]
    },
    {
      "cell_type": "markdown",
      "metadata": {
        "id": "XOKPbHFNZ9d8"
      },
      "source": [
        "3. Добавление гистограммы, например, для обучаемых параметров, чтобы видеть как меняются их значения по ходу обучения"
      ]
    },
    {
      "cell_type": "code",
      "execution_count": null,
      "metadata": {
        "collapsed": true,
        "id": "bZ8ohmg9Z9d9"
      },
      "outputs": [],
      "source": [
        "train_writer.add_histogram('hidden_layer', model.linear1.weight.data, step)"
      ]
    },
    {
      "cell_type": "code",
      "execution_count": null,
      "metadata": {
        "collapsed": true,
        "id": "0T0CBnJmZ9d9"
      },
      "outputs": [],
      "source": [
        "4. train_writer.add_image('my_image_HWC', img_HWC, step, dataformats='HWC')\n",
        "5. train_writer.add_figure('Confusion_matrix', figure_from_matplotlib, step)\n",
        "6. train_writer.add_text('Hidden_size', hidden_size, step)\n",
        "7. train_writer.add_graph(model, input_tensor)"
      ]
    },
    {
      "cell_type": "markdown",
      "metadata": {
        "id": "7nzsKfzrZ9d-"
      },
      "source": [
        "<img src=\"https://github.com/RiskModellingResearch/DeepLearning_Winter22/blob/main/week_04/images/tensorboard1.png?raw=1\" alt=\"Drawing\" />"
      ]
    },
    {
      "cell_type": "markdown",
      "metadata": {
        "id": "3sp9fetnZ9d-"
      },
      "source": [
        "<img src=\"https://github.com/RiskModellingResearch/DeepLearning_Winter22/blob/main/week_04/images/tensorboard2.png?raw=1\" alt=\"Drawing\" />"
      ]
    },
    {
      "cell_type": "markdown",
      "metadata": {
        "id": "s4SjJetEZ9d-"
      },
      "source": [
        "<img src=\"https://github.com/RiskModellingResearch/DeepLearning_Winter22/blob/main/week_04/images/tensorboard3.png?raw=1\" alt=\"Drawing\" />"
      ]
    },
    {
      "cell_type": "markdown",
      "metadata": {
        "id": "kOlRQw18Z9d-"
      },
      "source": [
        "<img src=\"https://github.com/RiskModellingResearch/DeepLearning_Winter22/blob/main/week_04/images/MeanEmbdPred.png?raw=1\" alt=\"Drawing\" width=\"300px\"/>"
      ]
    },
    {
      "cell_type": "markdown",
      "metadata": {
        "id": "IQ2t7fK9Z9d_"
      },
      "source": [
        "# Пример"
      ]
    },
    {
      "cell_type": "code",
      "source": [
        "!pip install torchmetrics --quiet"
      ],
      "metadata": {
        "id": "pxTU_DJUcQdJ"
      },
      "execution_count": null,
      "outputs": []
    },
    {
      "cell_type": "code",
      "execution_count": null,
      "metadata": {
        "id": "GIx7vIeZZ9d_"
      },
      "outputs": [],
      "source": [
        "import warnings\n",
        "warnings.filterwarnings(\"ignore\")\n",
        "\n",
        "import numpy as np\n",
        "import pandas as pd\n",
        "import seaborn as sns\n",
        "import matplotlib.pyplot as plt\n",
        "plt.style.use('ggplot')\n",
        "\n",
        "import torch\n",
        "\n",
        "print(torch.__version__)\n",
        "\n",
        "import torch.nn as nn # содержит функции для реалзации архитектуры нейронных сетей\n",
        "import torch.optim as optim\n",
        "import torch.utils.data as data_utils\n",
        "\n",
        "from torch.utils.tensorboard import SummaryWriter\n",
        "from torchmetrics import Accuracy\n",
        "\n",
        "from sklearn.model_selection import train_test_split\n",
        "from sklearn.preprocessing import LabelEncoder\n",
        "from sklearn.preprocessing import StandardScaler"
      ]
    },
    {
      "cell_type": "code",
      "execution_count": null,
      "metadata": {
        "collapsed": true,
        "id": "dPGuq4BrZ9d_"
      },
      "outputs": [],
      "source": [
        "INPUT_SIZE = 37\n",
        "HIDDEN_SIZE = 25\n",
        "OUTPUT_SIZE = 4\n",
        "LEARNING_RATE = 1e-2\n",
        "EPOCHS = 400\n",
        "BATCH_SIZE = 256"
      ]
    },
    {
      "cell_type": "markdown",
      "metadata": {
        "id": "D8Y4IYl8Z9eA"
      },
      "source": [
        "## ETL"
      ]
    },
    {
      "cell_type": "code",
      "execution_count": null,
      "metadata": {
        "collapsed": true,
        "id": "9xeKMaAUZ9eA"
      },
      "outputs": [],
      "source": [
        "def load_dataset():\n",
        "    X = pd.read_csv('./DeepLearning_Autumn22/week_04/data/X_cat.csv', sep='\\t', index_col=0)\n",
        "    target = pd.read_csv('./DeepLearning_Autumn22/week_04/data/y_cat.csv', sep='\\t', index_col=0, names=['status'])  # header=-1,\n",
        "\n",
        "    print(X.shape)\n",
        "    print(X.head())\n",
        "\n",
        "    target = target.iloc[:, :].values\n",
        "    target[target == 'Died'] = 'Euthanasia'\n",
        "\n",
        "    le = LabelEncoder()\n",
        "    y = le.fit_transform(target)\n",
        "\n",
        "    return X, y"
      ]
    },
    {
      "cell_type": "code",
      "execution_count": null,
      "metadata": {
        "collapsed": true,
        "id": "4R1yPhn5Z9eA"
      },
      "outputs": [],
      "source": [
        "def create_data_loader(X, y):\n",
        "    X_train, X_test, y_train, y_test = train_test_split(X.values, y,\n",
        "                                                        test_size=0.2, stratify=y, random_state=42)\n",
        "    \n",
        "    scaler = StandardScaler()\n",
        "    X_train = scaler.fit_transform(X_train)\n",
        "    X_test = scaler.transform(X_test)\n",
        "\n",
        "    train_tensor = data_utils.TensorDataset(torch.tensor(X_train.astype(np.float32)), torch.tensor(y_train))\n",
        "    train_loader = data_utils.DataLoader(dataset=train_tensor,\n",
        "                                         batch_size=BATCH_SIZE,\n",
        "                                         shuffle=True)\n",
        "\n",
        "    test_tensor = data_utils.TensorDataset(torch.tensor(X_test.astype(np.float32)), torch.tensor(y_test))\n",
        "    test_loader = data_utils.DataLoader(dataset=test_tensor,\n",
        "                                        batch_size=BATCH_SIZE,\n",
        "                                        shuffle=False)\n",
        "    \n",
        "    return X_train, X_test, y_train, y_test, train_loader, test_loader"
      ]
    },
    {
      "cell_type": "markdown",
      "metadata": {
        "id": "cQOgxaF2Z9eB"
      },
      "source": [
        "## Model Architecture"
      ]
    },
    {
      "cell_type": "code",
      "execution_count": null,
      "metadata": {
        "collapsed": true,
        "id": "v-y_OmWCZ9eB"
      },
      "outputs": [],
      "source": [
        "class MLPNet(nn.Module):\n",
        "\n",
        "    def __init__(self, input_size, hidden_size, output_size):\n",
        "        super(MLPNet, self).__init__()\n",
        "\n",
        "        self.linear1 = torch.nn.Linear(input_size, hidden_size)\n",
        "\n",
        "        self.linear2 = torch.nn.Linear(hidden_size, hidden_size)\n",
        "\n",
        "        self.linear3 = torch.nn.Linear(hidden_size, output_size)\n",
        "\n",
        "    def forward(self, x):\n",
        "        output = self.linear1(x)\n",
        "        output = torch.relu(output)\n",
        "\n",
        "        output = self.linear2(output)\n",
        "        output = torch.relu(output)\n",
        "\n",
        "        output = self.linear3(output)\n",
        "        predictions = torch.softmax(output, dim=1)\n",
        "\n",
        "        return predictions"
      ]
    },
    {
      "cell_type": "markdown",
      "metadata": {
        "id": "QCpOqbRdZ9eB"
      },
      "source": [
        "## Train pipeline"
      ]
    },
    {
      "cell_type": "code",
      "execution_count": null,
      "metadata": {
        "collapsed": true,
        "id": "EAYnp4tmZ9eB"
      },
      "outputs": [],
      "source": [
        "def run_train(model):\n",
        "    step = 0\n",
        "    for epoch in range(EPOCHS):\n",
        "        model.train()\n",
        "        for features, label in train_loader:\n",
        "            # Reset gradients\n",
        "            optimizer.zero_grad()\n",
        "\n",
        "            output = model(features)\n",
        "            # Calculate error and backpropagate\n",
        "            loss = criterion(output, label)\n",
        "            loss.backward()\n",
        "            acc = accuracy(output, label).item()\n",
        "\n",
        "            # Update weights with gradients\n",
        "            optimizer.step()\n",
        "\n",
        "            train_writer.add_scalar('CrossEntropyLoss', loss, step)\n",
        "            train_writer.add_scalar('Accuracy', acc, step)\n",
        "\n",
        "            step += 1\n",
        "\n",
        "            if step % 50 == 0:\n",
        "                print('EPOCH %d STEP %d : train_loss: %f train_acc: %f' %\n",
        "                      (epoch, step, loss, acc))\n",
        "\n",
        "        train_writer.add_histogram('hidden_layer', model.linear2.weight.data, step)\n",
        "\n",
        "        # Run validation\n",
        "        running_loss = []\n",
        "        valid_scores = []\n",
        "        valid_labels = []\n",
        "        model.eval()\n",
        "        with torch.no_grad():\n",
        "            for features, label in test_loader:\n",
        "                output = model(features)\n",
        "                # Calculate error and backpropagate\n",
        "                loss = criterion(output, label)\n",
        "\n",
        "                running_loss.append(loss.item())\n",
        "                valid_scores.extend(torch.argmax(output, dim=1))\n",
        "                valid_labels.extend(label)\n",
        "\n",
        "        valid_accuracy = accuracy(torch.tensor(valid_scores), torch.tensor(valid_labels)).item()\n",
        "\n",
        "        valid_writer.add_scalar('CrossEntropyLoss', np.mean(running_loss), step)\n",
        "        valid_writer.add_scalar('Accuracy', valid_accuracy, step)\n",
        "\n",
        "        print('EPOCH %d : valid_loss: %f valid_acc: %f' % (epoch, np.mean(running_loss), valid_accuracy))\n",
        "\n",
        "    return"
      ]
    },
    {
      "cell_type": "code",
      "execution_count": null,
      "metadata": {
        "collapsed": true,
        "id": "q4A6z-LKZ9eC"
      },
      "outputs": [],
      "source": [
        "train_writer = SummaryWriter('./logs/train')"
      ]
    },
    {
      "cell_type": "code",
      "execution_count": null,
      "metadata": {
        "collapsed": true,
        "id": "-otOws3JZ9eC"
      },
      "outputs": [],
      "source": [
        "valid_writer = SummaryWriter('./logs/valid')"
      ]
    },
    {
      "cell_type": "code",
      "execution_count": null,
      "metadata": {
        "id": "Bp1MEN8XZ9eC"
      },
      "outputs": [],
      "source": [
        "features, labels = load_dataset()\n",
        "X_train, X_test, y_train, y_test, train_loader, test_loader = create_data_loader(features, labels)\n"
      ]
    },
    {
      "cell_type": "code",
      "execution_count": null,
      "metadata": {
        "collapsed": true,
        "id": "tR15FJlcZ9eD"
      },
      "outputs": [],
      "source": [
        "model = MLPNet(INPUT_SIZE, HIDDEN_SIZE, OUTPUT_SIZE)\n",
        "\n",
        "criterion = nn.CrossEntropyLoss()\n",
        "accuracy = Accuracy()\n",
        "optimizer = optim.SGD(model.parameters(), lr=LEARNING_RATE)"
      ]
    },
    {
      "cell_type": "code",
      "execution_count": null,
      "metadata": {
        "collapsed": true,
        "id": "EImSgPjMZ9eD"
      },
      "outputs": [],
      "source": [
        "train_writer.add_text('LEARNING_RATE', str(LEARNING_RATE))\n",
        "train_writer.add_text('INPUT_SIZE', str(INPUT_SIZE))\n",
        "train_writer.add_text('HIDDEN_SIZE', str(HIDDEN_SIZE))\n",
        "train_writer.add_text('NROF_CLASSES', str(OUTPUT_SIZE))\n",
        "train_writer.add_text('BATCH_SIZE', str(BATCH_SIZE))\n",
        "\n",
        "train_writer.add_graph(model, torch.tensor(X_test.astype(np.float32)), verbose=True)"
      ]
    },
    {
      "cell_type": "code",
      "execution_count": null,
      "metadata": {
        "collapsed": true,
        "id": "vKjZd6g7Z9eD"
      },
      "outputs": [],
      "source": [
        "run_train(model)"
      ]
    },
    {
      "cell_type": "code",
      "source": [
        "%tensorboard --logdir logs"
      ],
      "metadata": {
        "id": "otV8djBqbl1n"
      },
      "execution_count": null,
      "outputs": []
    },
    {
      "cell_type": "code",
      "source": [],
      "metadata": {
        "id": "QAmHUf5HFfId"
      },
      "execution_count": null,
      "outputs": []
    }
  ],
  "metadata": {
    "kernelspec": {
      "display_name": "Python 3",
      "language": "python",
      "name": "python3"
    },
    "language_info": {
      "codemirror_mode": {
        "name": "ipython",
        "version": 3
      },
      "file_extension": ".py",
      "mimetype": "text/x-python",
      "name": "python",
      "nbconvert_exporter": "python",
      "pygments_lexer": "ipython3",
      "version": "3.6.5"
    },
    "colab": {
      "provenance": [],
      "collapsed_sections": []
    }
  },
  "nbformat": 4,
  "nbformat_minor": 0
}