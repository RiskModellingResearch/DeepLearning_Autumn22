{
 "cells": [
  {
   "cell_type": "markdown",
   "metadata": {},
   "source": [
    "1. Для датасета животных обучить MLP\n",
    "2. Использовать Custom Dataset, Sampler, collate_fn\n",
    "3. Сделать предобработку фичей\n",
    "4. Попробовать BatchNorm1d, Dropout\n",
    "5. Подключить для логирования tensorboard и/или mlflow\n",
    "6. Не забыть разделить выборку на train/valid в соотношении 80/20%\n",
    "7. Получить точность не ниже 65%.\n",
    "8. Сравнить результаты при разных подходах: 1) Масштабировать данные StandardScaler'ом + не использовать BatchNorm после Input слоя 2) Не Масштабировать данные + использовать BatchNorm после Input слоя 3) StandardScaler + BatchNorm"
   ]
  },
  {
   "cell_type": "code",
   "execution_count": null,
   "metadata": {
    "collapsed": true
   },
   "outputs": [],
   "source": []
  }
 ],
 "metadata": {
  "kernelspec": {
   "display_name": "Python 3 (ipykernel)",
   "language": "python",
   "name": "python3"
  },
  "language_info": {
   "codemirror_mode": {
    "name": "ipython",
    "version": 3
   },
   "file_extension": ".py",
   "mimetype": "text/x-python",
   "name": "python",
   "nbconvert_exporter": "python",
   "pygments_lexer": "ipython3",
   "version": "3.10.8"
  }
 },
 "nbformat": 4,
 "nbformat_minor": 4
}
