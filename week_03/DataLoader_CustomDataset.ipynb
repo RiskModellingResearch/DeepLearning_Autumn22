{
 "cells": [
  {
   "cell_type": "code",
   "execution_count": null,
   "metadata": {},
   "outputs": [],
   "source": [
    "import matplotlib.pyplot as plt\n",
    "import pandas as pd\n",
    "import pickle\n",
    "import numpy as np\n",
    "from tqdm import tqdm_notebook\n",
    "\n",
    "from torch.utils.data import DataLoader, Dataset, Sampler\n",
    "from torch.utils.data.dataloader import default_collate"
   ]
  },
  {
   "cell_type": "markdown",
   "metadata": {},
   "source": [
    "# Визуализация инициализаций"
   ]
  },
  {
   "cell_type": "code",
   "execution_count": null,
   "metadata": {},
   "outputs": [],
   "source": [
    "def xavier_uniform_boundaries(n_in, n_out):\n",
    "    bound = (np.sqrt(6)/(np.sqrt(n_in) + np.sqrt(n_out)))\n",
    "    return (-bound, bound)"
   ]
  },
  {
   "cell_type": "code",
   "execution_count": null,
   "metadata": {},
   "outputs": [],
   "source": [
    "def xavier_normal_boundaries(n_in, n_out):\n",
    "    bound = (np.sqrt(2)/(np.sqrt(n_in) + np.sqrt(n_out)))\n",
    "    return (-bound, bound)"
   ]
  },
  {
   "cell_type": "code",
   "execution_count": null,
   "metadata": {},
   "outputs": [],
   "source": [
    "bounds_list = []\n",
    "for i in range(1, 100):\n",
    "    bounds = xavier_uniform_boundaries(i, i)\n",
    "    bounds_list.append(bounds)"
   ]
  },
  {
   "cell_type": "code",
   "execution_count": null,
   "metadata": {},
   "outputs": [],
   "source": [
    "plt.bar(list(range(1, len(bounds_list)+1)), [2*x[1] for x in bounds_list], bottom=[x[0] for x in bounds_list])"
   ]
  },
  {
   "cell_type": "code",
   "execution_count": null,
   "metadata": {},
   "outputs": [],
   "source": [
    "bounds_list = []\n",
    "for i in range(1, 100):\n",
    "    bounds = xavier_normal_boundaries(i, i)\n",
    "    bounds_list.append(bounds)"
   ]
  },
  {
   "cell_type": "code",
   "execution_count": null,
   "metadata": {},
   "outputs": [],
   "source": [
    "plt.bar(list(range(1, len(bounds_list)+1)), [2*x[1] for x in bounds_list], bottom=[x[0] for x in bounds_list])"
   ]
  },
  {
   "cell_type": "code",
   "execution_count": null,
   "metadata": {},
   "outputs": [],
   "source": []
  },
  {
   "cell_type": "markdown",
   "metadata": {
    "id": "LqPBSzNtIQBx"
   },
   "source": [
    "# DataLoader in PyTorch"
   ]
  },
  {
   "cell_type": "markdown",
   "metadata": {
    "id": "T3jevMAFIQBz"
   },
   "source": [
    "__DataLoader__ -- класс в PyTorch, который позволяет итеративно проходить по датасету, отвечает за оркестрацию всего процесса работы с датасетом."
   ]
  },
  {
   "cell_type": "code",
   "execution_count": null,
   "metadata": {
    "id": "DKhLWaRUJPmw"
   },
   "outputs": [],
   "source": [
    "DataLoader(\n",
    "  dataset, \n",
    "  batch_size=1, \n",
    "  shuffle=False, \n",
    "  sampler=None, \n",
    "  batch_sampler=None, \n",
    "  num_workers=0, \n",
    "  collate_fn=None, \n",
    "  pin_memory=False, \n",
    "  drop_last=False, \n",
    "  timeout=0, \n",
    "  worker_init_fn=None, \n",
    "  prefetch_factor=2, \n",
    "  persistent_workers=False\n",
    "  )"
   ]
  },
  {
   "cell_type": "markdown",
   "metadata": {
    "id": "g4ebHl45IQB0"
   },
   "source": [
    "- __dataset__ -- позволяет создать кастомные классы для работы с датасетом, где можно указать логику формирвоания батча.\n",
    "- __sampler__ -- определяет порядок элементов из датасета, которые будут идти в батч, то есть это список индексов, объединенных в батч. Удобно переопределять, когда обучение распредленное.  \n",
    "- __collate_fn__ -- позволяет сделать финальную предобработку над батчем данных. Если, например, в батч попали последовательности разных размеров, то после уже сбора батча, можно будет дополнить последовательности нулями относительно максимально длиной последовательности.\n",
    "\n"
   ]
  },
  {
   "cell_type": "markdown",
   "metadata": {
    "id": "MWALEyFcIQB0"
   },
   "source": [
    "## Custom Dataset"
   ]
  },
  {
   "cell_type": "code",
   "execution_count": null,
   "metadata": {
    "id": "39ASiNogIQB1"
   },
   "outputs": [],
   "source": []
  },
  {
   "cell_type": "code",
   "execution_count": null,
   "metadata": {},
   "outputs": [],
   "source": [
    "import torch"
   ]
  },
  {
   "cell_type": "code",
   "execution_count": null,
   "metadata": {
    "id": "PgvNfUTHIQB1"
   },
   "outputs": [],
   "source": [
    "BATCH_SIZE = 128\n",
    "EPOCHS = 100"
   ]
  },
  {
   "cell_type": "code",
   "execution_count": null,
   "metadata": {
    "id": "janhyHhGIQB2"
   },
   "outputs": [],
   "source": [
    "class CustomDataset(Dataset):\n",
    "    # Конструктор, где считаем датасет\n",
    "    def __init__(self, dataset_path):\n",
    "        with open(dataset_path, 'rb') as f:\n",
    "            self.X, self.target = pickle.load(f)\n",
    "\n",
    "        return\n",
    "    \n",
    "    # Переопределяем метод вычисление размера датасета\n",
    "    def __len__(self):\n",
    "        return len(self.X)\n",
    "\n",
    "    # Переопределяем метод,\n",
    "    # который достает по индексу наблюдение из датасет\n",
    "    def __getitem__(self, idx):\n",
    "        return self.X[idx], self.target[idx]"
   ]
  },
  {
   "cell_type": "markdown",
   "metadata": {
    "id": "roAkDm-MIQB2"
   },
   "source": [
    "## Custom Sampler"
   ]
  },
  {
   "cell_type": "code",
   "execution_count": null,
   "metadata": {
    "id": "u1QwVaJzIQB3"
   },
   "outputs": [],
   "source": [
    "class CustomSampler(Sampler):\n",
    "\n",
    "    # Конструктор, где инициализируем индексы элементов\n",
    "    def __init__(self, data):\n",
    "        self.data_indices = np.arange(len(data))\n",
    "\n",
    "        shuffled_indices = np.random.permutation(len(self.data_indices))\n",
    "\n",
    "        self.data_indices = np.ascontiguousarray(self.data_indices)[shuffled_indices]\n",
    "\n",
    "        return\n",
    "\n",
    "    def __len__(self):\n",
    "        return len(self.data_indices)\n",
    "\n",
    "    # Возращает итератор,\n",
    "    # который будет возвращать индексы из перемешанного датасета\n",
    "    def __iter__(self):\n",
    "        return iter(self.data_indices)"
   ]
  },
  {
   "cell_type": "markdown",
   "metadata": {
    "id": "nDf1I8dVIQB3"
   },
   "source": [
    "## Custom collate_fn"
   ]
  },
  {
   "cell_type": "code",
   "execution_count": null,
   "metadata": {
    "id": "nPqThVRQIQB4"
   },
   "outputs": [],
   "source": [
    "def collate(batch):\n",
    "    ans = default_collate(batch)\n",
    "    return ans"
   ]
  },
  {
   "cell_type": "code",
   "execution_count": null,
   "metadata": {
    "id": "zo9JBh3XIQB4"
   },
   "outputs": [],
   "source": [
    "def create_data_loader(train_dataset, train_sampler,\n",
    "                       test_dataset, test_sampler):\n",
    "    train_loader = DataLoader(dataset=train_dataset, sampler=train_sampler,\n",
    "                              batch_size=BATCH_SIZE, collate_fn=collate,\n",
    "                              shuffle=False)\n",
    "\n",
    "    test_loader = DataLoader(dataset=test_dataset, sampler=test_sampler,\n",
    "                             batch_size=BATCH_SIZE, collate_fn=collate,\n",
    "                             shuffle=False)\n",
    "\n",
    "    return train_loader, test_loader"
   ]
  },
  {
   "cell_type": "code",
   "execution_count": null,
   "metadata": {
    "colab": {
     "base_uri": "https://localhost:8080/"
    },
    "id": "IhOJHR7fQRoF",
    "outputId": "ed6530cf-dc49-46a9-be5c-bd600c219953"
   },
   "outputs": [],
   "source": [
    "!git clone https://github.com/RiskModellingResearch/DeepLearning_Autumn22.git"
   ]
  },
  {
   "cell_type": "code",
   "execution_count": null,
   "metadata": {
    "id": "2gCte_KbIQB5"
   },
   "outputs": [],
   "source": [
    "# Создаем объекты Custom Dataset и Sampler\n",
    "train_ds = CustomDataset('DeepLearning_Autumn22/week_03/data/X_train_cat.pickle')\n",
    "train_sampler = CustomSampler(train_ds.X)\n",
    "\n",
    "test_ds = CustomDataset('DeepLearning_Autumn22/week_03/data/X_test_cat.pickle')\n",
    "test_sampler = CustomSampler(test_ds.X)"
   ]
  },
  {
   "cell_type": "code",
   "execution_count": null,
   "metadata": {
    "id": "JH_jYjZ9IQB5"
   },
   "outputs": [],
   "source": [
    "train_loader, test_loader = create_data_loader(train_ds, train_sampler, \n",
    "                                               test_ds, test_sampler)"
   ]
  },
  {
   "cell_type": "code",
   "execution_count": null,
   "metadata": {
    "id": "UdmzZ2z8IQB5"
   },
   "outputs": [],
   "source": [
    "def run_train():\n",
    "    for epoch in tqdm_notebook(range(EPOCHS)):\n",
    "        for features, labels in train_loader:\n",
    "            pass\n",
    "    return"
   ]
  },
  {
   "cell_type": "code",
   "execution_count": null,
   "metadata": {
    "colab": {
     "base_uri": "https://localhost:8080/",
     "height": 120,
     "referenced_widgets": [
      "c0e2ca85360f482eb3cb460a510e60d4",
      "3e41ff8ff2e74c7898dfa95725feeab1",
      "b46328ea3e874dafa625d7ae7283887c",
      "3399527f06834664b2f67d19b3e6e671",
      "d23b59c0df9d4ae6b916f08613eb870c",
      "827241f34f9740b2a98d523731132eb2",
      "9bd878d872e64b1986532991da72adf1",
      "1d3c973b92ac4d87919551e83abcab74",
      "84ab8c39b3e940a88b36c65614603020",
      "08fc1344d3ae4aa2be9a17d55b88a09b",
      "202873fe9e7945a88c7f1fec63e68b78"
     ]
    },
    "id": "eaSsg2z3IQB6",
    "outputId": "33ce7c0c-87d5-42e3-f214-2cf7cde2b8d5"
   },
   "outputs": [],
   "source": [
    "run_train()"
   ]
  },
  {
   "cell_type": "code",
   "execution_count": null,
   "metadata": {
    "id": "7EEhnP7wQeJI"
   },
   "outputs": [],
   "source": []
  }
 ],
 "metadata": {
  "colab": {
   "collapsed_sections": [],
   "name": "DataLoader - CustomDataset.ipynb",
   "provenance": []
  },
  "kernelspec": {
   "display_name": "Python 3 (ipykernel)",
   "language": "python",
   "name": "python3"
  },
  "language_info": {
   "codemirror_mode": {
    "name": "ipython",
    "version": 3
   },
   "file_extension": ".py",
   "mimetype": "text/x-python",
   "name": "python",
   "nbconvert_exporter": "python",
   "pygments_lexer": "ipython3",
   "version": "3.10.8"
  },
  "widgets": {
   "application/vnd.jupyter.widget-state+json": {
    "08fc1344d3ae4aa2be9a17d55b88a09b": {
     "model_module": "@jupyter-widgets/controls",
     "model_module_version": "1.5.0",
     "model_name": "DescriptionStyleModel",
     "state": {
      "_model_module": "@jupyter-widgets/controls",
      "_model_module_version": "1.5.0",
      "_model_name": "DescriptionStyleModel",
      "_view_count": null,
      "_view_module": "@jupyter-widgets/base",
      "_view_module_version": "1.2.0",
      "_view_name": "StyleView",
      "description_width": ""
     }
    },
    "1d3c973b92ac4d87919551e83abcab74": {
     "model_module": "@jupyter-widgets/controls",
     "model_module_version": "1.5.0",
     "model_name": "ProgressStyleModel",
     "state": {
      "_model_module": "@jupyter-widgets/controls",
      "_model_module_version": "1.5.0",
      "_model_name": "ProgressStyleModel",
      "_view_count": null,
      "_view_module": "@jupyter-widgets/base",
      "_view_module_version": "1.2.0",
      "_view_name": "StyleView",
      "bar_color": null,
      "description_width": ""
     }
    },
    "202873fe9e7945a88c7f1fec63e68b78": {
     "model_module": "@jupyter-widgets/base",
     "model_module_version": "1.2.0",
     "model_name": "LayoutModel",
     "state": {
      "_model_module": "@jupyter-widgets/base",
      "_model_module_version": "1.2.0",
      "_model_name": "LayoutModel",
      "_view_count": null,
      "_view_module": "@jupyter-widgets/base",
      "_view_module_version": "1.2.0",
      "_view_name": "LayoutView",
      "align_content": null,
      "align_items": null,
      "align_self": null,
      "border": null,
      "bottom": null,
      "display": null,
      "flex": null,
      "flex_flow": null,
      "grid_area": null,
      "grid_auto_columns": null,
      "grid_auto_flow": null,
      "grid_auto_rows": null,
      "grid_column": null,
      "grid_gap": null,
      "grid_row": null,
      "grid_template_areas": null,
      "grid_template_columns": null,
      "grid_template_rows": null,
      "height": null,
      "justify_content": null,
      "justify_items": null,
      "left": null,
      "margin": null,
      "max_height": null,
      "max_width": null,
      "min_height": null,
      "min_width": null,
      "object_fit": null,
      "object_position": null,
      "order": null,
      "overflow": null,
      "overflow_x": null,
      "overflow_y": null,
      "padding": null,
      "right": null,
      "top": null,
      "visibility": null,
      "width": null
     }
    },
    "3399527f06834664b2f67d19b3e6e671": {
     "model_module": "@jupyter-widgets/controls",
     "model_module_version": "1.5.0",
     "model_name": "FloatProgressModel",
     "state": {
      "_dom_classes": [],
      "_model_module": "@jupyter-widgets/controls",
      "_model_module_version": "1.5.0",
      "_model_name": "FloatProgressModel",
      "_view_count": null,
      "_view_module": "@jupyter-widgets/controls",
      "_view_module_version": "1.5.0",
      "_view_name": "ProgressView",
      "bar_style": "success",
      "description": "",
      "description_tooltip": null,
      "layout": "IPY_MODEL_84ab8c39b3e940a88b36c65614603020",
      "max": 100,
      "min": 0,
      "orientation": "horizontal",
      "style": "IPY_MODEL_1d3c973b92ac4d87919551e83abcab74",
      "value": 100
     }
    },
    "3e41ff8ff2e74c7898dfa95725feeab1": {
     "model_module": "@jupyter-widgets/base",
     "model_module_version": "1.2.0",
     "model_name": "LayoutModel",
     "state": {
      "_model_module": "@jupyter-widgets/base",
      "_model_module_version": "1.2.0",
      "_model_name": "LayoutModel",
      "_view_count": null,
      "_view_module": "@jupyter-widgets/base",
      "_view_module_version": "1.2.0",
      "_view_name": "LayoutView",
      "align_content": null,
      "align_items": null,
      "align_self": null,
      "border": null,
      "bottom": null,
      "display": null,
      "flex": null,
      "flex_flow": null,
      "grid_area": null,
      "grid_auto_columns": null,
      "grid_auto_flow": null,
      "grid_auto_rows": null,
      "grid_column": null,
      "grid_gap": null,
      "grid_row": null,
      "grid_template_areas": null,
      "grid_template_columns": null,
      "grid_template_rows": null,
      "height": null,
      "justify_content": null,
      "justify_items": null,
      "left": null,
      "margin": null,
      "max_height": null,
      "max_width": null,
      "min_height": null,
      "min_width": null,
      "object_fit": null,
      "object_position": null,
      "order": null,
      "overflow": null,
      "overflow_x": null,
      "overflow_y": null,
      "padding": null,
      "right": null,
      "top": null,
      "visibility": null,
      "width": null
     }
    },
    "827241f34f9740b2a98d523731132eb2": {
     "model_module": "@jupyter-widgets/controls",
     "model_module_version": "1.5.0",
     "model_name": "DescriptionStyleModel",
     "state": {
      "_model_module": "@jupyter-widgets/controls",
      "_model_module_version": "1.5.0",
      "_model_name": "DescriptionStyleModel",
      "_view_count": null,
      "_view_module": "@jupyter-widgets/base",
      "_view_module_version": "1.2.0",
      "_view_name": "StyleView",
      "description_width": ""
     }
    },
    "84ab8c39b3e940a88b36c65614603020": {
     "model_module": "@jupyter-widgets/base",
     "model_module_version": "1.2.0",
     "model_name": "LayoutModel",
     "state": {
      "_model_module": "@jupyter-widgets/base",
      "_model_module_version": "1.2.0",
      "_model_name": "LayoutModel",
      "_view_count": null,
      "_view_module": "@jupyter-widgets/base",
      "_view_module_version": "1.2.0",
      "_view_name": "LayoutView",
      "align_content": null,
      "align_items": null,
      "align_self": null,
      "border": null,
      "bottom": null,
      "display": null,
      "flex": null,
      "flex_flow": null,
      "grid_area": null,
      "grid_auto_columns": null,
      "grid_auto_flow": null,
      "grid_auto_rows": null,
      "grid_column": null,
      "grid_gap": null,
      "grid_row": null,
      "grid_template_areas": null,
      "grid_template_columns": null,
      "grid_template_rows": null,
      "height": null,
      "justify_content": null,
      "justify_items": null,
      "left": null,
      "margin": null,
      "max_height": null,
      "max_width": null,
      "min_height": null,
      "min_width": null,
      "object_fit": null,
      "object_position": null,
      "order": null,
      "overflow": null,
      "overflow_x": null,
      "overflow_y": null,
      "padding": null,
      "right": null,
      "top": null,
      "visibility": null,
      "width": null
     }
    },
    "9bd878d872e64b1986532991da72adf1": {
     "model_module": "@jupyter-widgets/base",
     "model_module_version": "1.2.0",
     "model_name": "LayoutModel",
     "state": {
      "_model_module": "@jupyter-widgets/base",
      "_model_module_version": "1.2.0",
      "_model_name": "LayoutModel",
      "_view_count": null,
      "_view_module": "@jupyter-widgets/base",
      "_view_module_version": "1.2.0",
      "_view_name": "LayoutView",
      "align_content": null,
      "align_items": null,
      "align_self": null,
      "border": null,
      "bottom": null,
      "display": null,
      "flex": null,
      "flex_flow": null,
      "grid_area": null,
      "grid_auto_columns": null,
      "grid_auto_flow": null,
      "grid_auto_rows": null,
      "grid_column": null,
      "grid_gap": null,
      "grid_row": null,
      "grid_template_areas": null,
      "grid_template_columns": null,
      "grid_template_rows": null,
      "height": null,
      "justify_content": null,
      "justify_items": null,
      "left": null,
      "margin": null,
      "max_height": null,
      "max_width": null,
      "min_height": null,
      "min_width": null,
      "object_fit": null,
      "object_position": null,
      "order": null,
      "overflow": null,
      "overflow_x": null,
      "overflow_y": null,
      "padding": null,
      "right": null,
      "top": null,
      "visibility": null,
      "width": null
     }
    },
    "b46328ea3e874dafa625d7ae7283887c": {
     "model_module": "@jupyter-widgets/controls",
     "model_module_version": "1.5.0",
     "model_name": "HTMLModel",
     "state": {
      "_dom_classes": [],
      "_model_module": "@jupyter-widgets/controls",
      "_model_module_version": "1.5.0",
      "_model_name": "HTMLModel",
      "_view_count": null,
      "_view_module": "@jupyter-widgets/controls",
      "_view_module_version": "1.5.0",
      "_view_name": "HTMLView",
      "description": "",
      "description_tooltip": null,
      "layout": "IPY_MODEL_9bd878d872e64b1986532991da72adf1",
      "placeholder": "​",
      "style": "IPY_MODEL_827241f34f9740b2a98d523731132eb2",
      "value": "100%"
     }
    },
    "c0e2ca85360f482eb3cb460a510e60d4": {
     "model_module": "@jupyter-widgets/controls",
     "model_module_version": "1.5.0",
     "model_name": "HBoxModel",
     "state": {
      "_dom_classes": [],
      "_model_module": "@jupyter-widgets/controls",
      "_model_module_version": "1.5.0",
      "_model_name": "HBoxModel",
      "_view_count": null,
      "_view_module": "@jupyter-widgets/controls",
      "_view_module_version": "1.5.0",
      "_view_name": "HBoxView",
      "box_style": "",
      "children": [
       "IPY_MODEL_b46328ea3e874dafa625d7ae7283887c",
       "IPY_MODEL_3399527f06834664b2f67d19b3e6e671",
       "IPY_MODEL_d23b59c0df9d4ae6b916f08613eb870c"
      ],
      "layout": "IPY_MODEL_3e41ff8ff2e74c7898dfa95725feeab1"
     }
    },
    "d23b59c0df9d4ae6b916f08613eb870c": {
     "model_module": "@jupyter-widgets/controls",
     "model_module_version": "1.5.0",
     "model_name": "HTMLModel",
     "state": {
      "_dom_classes": [],
      "_model_module": "@jupyter-widgets/controls",
      "_model_module_version": "1.5.0",
      "_model_name": "HTMLModel",
      "_view_count": null,
      "_view_module": "@jupyter-widgets/controls",
      "_view_module_version": "1.5.0",
      "_view_name": "HTMLView",
      "description": "",
      "description_tooltip": null,
      "layout": "IPY_MODEL_202873fe9e7945a88c7f1fec63e68b78",
      "placeholder": "​",
      "style": "IPY_MODEL_08fc1344d3ae4aa2be9a17d55b88a09b",
      "value": " 100/100 [00:09&lt;00:00, 10.66it/s]"
     }
    }
   }
  }
 },
 "nbformat": 4,
 "nbformat_minor": 1
}
